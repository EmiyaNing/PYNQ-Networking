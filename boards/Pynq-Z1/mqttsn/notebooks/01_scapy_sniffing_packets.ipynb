{
 "cells": [
  {
   "cell_type": "markdown",
   "metadata": {},
   "source": [
    "# `scapy`: Sniffing Network Packets\n",
    "\n",
    "`scapy` is a python package for dissecting and implementing network protocols.\n",
    "\n",
    "Full documentation can be found at: http://www.secdev.org/projects/scapy/doc/\n",
    "\n",
    "## 1. Importing `scapy`\n",
    "\n",
    "The first 2 lines of the next cell suppress warnings from the `scapy` package."
   ]
  },
  {
   "cell_type": "code",
   "execution_count": 12,
   "metadata": {},
   "outputs": [],
   "source": [
    "import logging\n",
    "logging.getLogger(\"scapy.runtime\").setLevel(logging.ERROR)\n",
    "from scapy.all import *\n",
    "from pynq_networking import *"
   ]
  },
  {
   "cell_type": "markdown",
   "metadata": {},
   "source": [
    "## 2. Sniffing packets\n",
    "\n",
    "`scapy` can sniff packets off the wire and process and display them.\n",
    "\n",
    "The filter is a string in the Berkeley packet filter style: http://biot.com/capstats/bpf.html.\n",
    "\n",
    "The `nsummary()` method prints a summary of each packet,\n",
    "along with its index in the collection.\n",
    "\n",
    "The next cell will sniff packets for 2 seconds and spit out the packet trace."
   ]
  },
  {
   "cell_type": "code",
   "execution_count": 13,
   "metadata": {},
   "outputs": [
    {
     "name": "stdout",
     "output_type": "stream",
     "text": [
      "0000 Ether / IP / UDP 192.168.1.91:netbios_ns > 192.168.1.255:netbios_ns / NBNSQueryRequest\n",
      "0001 Ether / IPv6 / UDP fe80::8c51:523d:b8f:15fe:56854 > ff02::1:3:hostmon / LLMNRQuery\n",
      "0002 Ether / IP / UDP 172.19.73.221:56854 > 224.0.0.252:hostmon / LLMNRQuery\n",
      "0003 Ether / IPv6 / UDP fe80::c57c:438:cd41:7466:62257 > ff02::1:3:hostmon / LLMNRQuery\n",
      "0004 Ether / IP / UDP 172.19.73.228:60707 > 224.0.0.252:hostmon / LLMNRQuery\n",
      "0005 Ether / IP / UDP 172.19.75.155:56281 > 172.19.75.255:1534 / Raw\n",
      "0006 Ether / IP / UDP 172.19.73.221:netbios_ns > 172.19.75.255:netbios_ns / NBNSQueryRequest\n",
      "0007 Ether / IPv6 / UDP fe80::c57c:438:cd41:7466:62257 > ff02::1:3:hostmon / LLMNRQuery\n",
      "0008 Ether / IP / UDP 172.19.73.228:60707 > 224.0.0.252:hostmon / LLMNRQuery\n",
      "0009 Ether / ARP who has 172.19.73.157 says 172.19.72.79 / Padding\n",
      "0010 Ether / IP / UDP 172.19.73.93:54915 > 172.19.75.255:54915 / Raw\n",
      "0011 Ether / ARP who has 172.19.73.47 says 172.19.73.228 / Padding\n",
      "0012 Ether / ARP who has 172.19.72.185 says 172.19.73.228 / Padding\n",
      "0013 Ether / IP / UDP 172.19.72.82:54915 > 172.19.75.255:54915 / Raw\n",
      "0014 Ether / IP / UDP 172.19.72.202:62464 > 172.19.75.255:1534 / Raw / Padding\n",
      "0015 Ether / ARP who has 172.19.3.254 says 172.19.3.129 / Padding\n",
      "0016 Ether / IP / UDP 172.19.72.90:54915 > 172.19.75.255:54915 / Raw\n",
      "0017 Ether / IPv6 / UDP fe80::8c51:523d:b8f:15fe:56854 > ff02::1:3:hostmon / LLMNRQuery\n",
      "0018 Ether / IP / UDP 172.19.73.221:56854 > 224.0.0.252:hostmon / LLMNRQuery\n",
      "0019 Ether / IP / UDP 172.19.72.58:52993 > 255.255.255.255:9535 / Raw\n",
      "0020 Ether / IP / UDP 172.19.73.32:43796 > 255.255.255.255:10001 / Raw\n",
      "0021 Ether / IP / UDP 172.19.73.32:42638 > 255.255.255.255:10001 / Raw\n",
      "0022 Ether / ARP who has 172.19.72.13 says 172.19.73.228 / Padding\n",
      "0023 Ether / IPv6 / UDP fe80::8c51:523d:b8f:15fe:61491 > ff02::1:3:hostmon / LLMNRQuery\n",
      "0024 Ether / IP / UDP 172.19.73.221:61491 > 224.0.0.252:hostmon / LLMNRQuery\n",
      "0025 Ether / IPv6 / UDP fe80::8c51:523d:b8f:15fe:51360 > ff02::1:3:hostmon / LLMNRQuery\n",
      "0026 Ether / IP / UDP 172.19.73.221:51360 > 224.0.0.252:hostmon / LLMNRQuery\n",
      "0027 Ether / IP / UDP 172.19.72.41:1534 > 172.19.75.255:1534 / Raw\n",
      "0028 Ether / ARP who has 192.168.1.1 says 192.168.1.91 / Padding\n",
      "0029 Ether / IP / UDP 172.19.73.221:netbios_ns > 172.19.75.255:netbios_ns / NBNSQueryRequest\n",
      "0030 Ether / ARP who has 172.19.73.157 says 172.19.72.79 / Padding\n",
      "0031 Ether / IP / UDP 172.19.73.252:52894 > 255.255.255.255:9535 / Raw\n",
      "0032 Ether / ARP who has 172.19.72.255 says 172.19.72.193 / Padding\n",
      "0033 Ether / IP / UDP 192.168.1.91:netbios_ns > 192.168.1.255:netbios_ns / NBNSQueryRequest\n",
      "0034 Ether / IP / UDP 172.19.73.221:netbios_ns > 172.19.75.255:netbios_ns / NBNSQueryRequest\n"
     ]
    }
   ],
   "source": [
    "import signal, time\n",
    "\n",
    "def time_out(signum, frame):\n",
    "    raise KeyboardInterrupt\n",
    "\n",
    "signal.signal(signal.SIGALRM, time_out)\n",
    "signal.alarm(2)\n",
    "\n",
    "try:\n",
    "    pkt_trace = sniff(iface=\"br0\", filter=\"udp or arp\")\n",
    "except KeyboardInterrupt:\n",
    "    pass\n",
    "pkt_trace.nsummary()"
   ]
  },
  {
   "cell_type": "markdown",
   "metadata": {},
   "source": [
    "If you execute the previous code on a busy network, you'll probably see lots of packets which are not MQTTSN packets.\n",
    "The following code separates the MQTTSN packets from the other 'uninteresting' packets.\n",
    "In this code x[MQTTSN] returns the first MQTTSN header and the `.payload` field returns the rest of the packet, \n",
    "which depends on the particular type of MQTTSN packet.\n",
    "In this case, if you managed to sniff some MQTTSN packets, you might see something like:\n",
    "\n",
    "```\n",
    "<MQTTSN_CONNECT  dup=0 qos=0 retain=0 will=0 clean=1 topicIDtype=0 protocol=1 duration=30 client='client-temp' |>,\n",
    "<MQTTSN_CONNACK  returnCode=0 |>,\n",
    " ```\n",
    " \n",
    "These packets represent a connect request followed by an acknowledgment."
   ]
  },
  {
   "cell_type": "markdown",
   "metadata": {},
   "source": [
    "We can also do various kinds of analysis on the captured packets, as shown below."
   ]
  },
  {
   "cell_type": "code",
   "execution_count": 15,
   "metadata": {},
   "outputs": [
    {
     "data": {
      "image/png": "[encoded data removed]",
      "text/plain": [
       "<matplotlib.figure.Figure at 0x2aa0ebf0>"
      ]
     },
     "metadata": {},
     "output_type": "display_data"
    }
   ],
   "source": [
    "import matplotlib.pyplot as plt\n",
    "from collections import Counter\n",
    "types = [\"ARP\" if ARP in x else \n",
    "         \"MQTTSN\" if MQTTSN in x else\n",
    "         \"IPV6_UDP\" if ((UDP in x) and (IPv6 in x)) else\n",
    "         \"UDP\" if (UDP in x) else\n",
    "         \"IPV6_TCP\" if ((TCP in x) and (IPv6 in x)) else\n",
    "         \"TCP\" if (TCP in x) else\n",
    "         \"Unknown\" for x in pkt_trace]\n",
    "counts = Counter(types)\n",
    "frequencies = counts.values()\n",
    "names = [x for x in counts.keys()]\n",
    "centers = range(len(counts))\n",
    "plt.bar(centers, frequencies, align='center', tick_label=names)\n",
    "plt.title(\"Histogram of received packet types\")\n",
    "plt.show()"
   ]
  },
  {
   "cell_type": "code",
   "execution_count": 16,
   "metadata": {},
   "outputs": [
    {
     "data": {
      "image/png": "[encoded data removed]",
      "text/plain": [
       "<matplotlib.figure.Figure at 0x2aa0eb10>"
      ]
     },
     "metadata": {},
     "output_type": "display_data"
    }
   ],
   "source": [
    "import matplotlib.pyplot as plt\n",
    "if len(pkt_trace) == 0:\n",
    "    print(\"No Data!\")\n",
    "else:\n",
    "    first = pkt_trace[0].time\n",
    "    times = [pkt.time - pkt_trace[0].time for pkt in pkt_trace]\n",
    "    plt.hist(times, bins=64)\n",
    "    plt.title(\"Arrival rate of packets over time\")\n",
    "    plt.xlabel('time (s)')\n",
    "    plt.ylabel('number of packets')\n",
    "    plt.show()"
   ]
  },
  {
   "cell_type": "markdown",
   "metadata": {},
   "source": [
    "## 3. Sniffing in the background\n",
    "Now let us write a script `sniff.py` to be running in the background. \n",
    "This script will collect 100 UDP packets silently, and dump the packet\n",
    "trace into a log file `packet.log`."
   ]
  },
  {
   "cell_type": "code",
   "execution_count": 5,
   "metadata": {},
   "outputs": [
    {
     "data": {
      "text/plain": [
       "0"
      ]
     },
     "execution_count": 5,
     "metadata": {},
     "output_type": "execute_result"
    }
   ],
   "source": [
    "num_packets = 100\n",
    "\n",
    "with open('sniff.py', 'w') as file:\n",
    "    file.write(\n",
    "        'import logging\\n')\n",
    "    file.write(\n",
    "        'logging.getLogger(\"scapy.runtime\").setLevel(logging.ERROR)\\n')\n",
    "    file.write(\n",
    "        'from scapy.all import *\\n')\n",
    "    file.write(\n",
    "        'sniffer = sniff(iface=\"br0\", filter=f\"udp\", \\n')\n",
    "    file.write(\n",
    "        '                count={})\\n'.format(num_packets))\n",
    "    file.write(\n",
    "        'print(sniffer.nsummary())\\n')\n",
    "\n",
    "os.system(\"chmod 777 sniff.py\")\n",
    "os.system(\"python3.6 sniff.py >packet.log&\")"
   ]
  },
  {
   "cell_type": "markdown",
   "metadata": {},
   "source": [
    "It may take some time for the background sniffing process to complete. \n",
    "\n",
    "Use the following command line to check whether the process \n",
    "has completed:\n",
    "```\n",
    "ps -aux | grep 'sniff.py'\n",
    "```\n",
    "\n",
    "After it is done, users can check the contents in `packet.log`.\n",
    "\n",
    "Finally, remove all the generated files."
   ]
  },
  {
   "cell_type": "code",
   "execution_count": 6,
   "metadata": {},
   "outputs": [
    {
     "data": {
      "text/plain": [
       "0"
      ]
     },
     "execution_count": 6,
     "metadata": {},
     "output_type": "execute_result"
    }
   ],
   "source": [
    "os.system(\"rm -rf sniff.py packet.log\")"
   ]
  }
 ],
 "metadata": {
  "kernelspec": {
   "display_name": "Python 3",
   "language": "python",
   "name": "python3"
  },
  "language_info": {
   "codemirror_mode": {
    "name": "ipython",
    "version": 3
   },
   "file_extension": ".py",
   "mimetype": "text/x-python",
   "name": "python",
   "nbconvert_exporter": "python",
   "pygments_lexer": "ipython3",
   "version": "3.6.0"
  }
 },
 "nbformat": 4,
 "nbformat_minor": 1
}
